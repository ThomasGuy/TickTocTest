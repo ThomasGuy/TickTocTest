{
 "cells": [
  {
   "cell_type": "code",
   "execution_count": 1,
   "metadata": {},
   "outputs": [
    {
     "ename": "ModuleNotFoundError",
     "evalue": "No module named 'mpl_finance'",
     "output_type": "error",
     "traceback": [
      "\u001b[1;31m---------------------------------------------------------------------------\u001b[0m",
      "\u001b[1;31mModuleNotFoundError\u001b[0m                       Traceback (most recent call last)",
      "\u001b[1;32m<ipython-input-1-59252c9f4ad5>\u001b[0m in \u001b[0;36m<module>\u001b[1;34m()\u001b[0m\n\u001b[0;32m      2\u001b[0m \u001b[1;32mfrom\u001b[0m \u001b[0mTickTocTest\u001b[0m\u001b[1;33m.\u001b[0m\u001b[0mticktoctest\u001b[0m\u001b[1;33m.\u001b[0m\u001b[0mtickToc\u001b[0m \u001b[1;32mimport\u001b[0m \u001b[0mdb_session\u001b[0m\u001b[1;33m,\u001b[0m \u001b[0mgetDBdata\u001b[0m\u001b[1;33m\u001b[0m\u001b[0m\n\u001b[0;32m      3\u001b[0m \u001b[1;32mfrom\u001b[0m \u001b[0mTickTocTest\u001b[0m\u001b[1;33m.\u001b[0m\u001b[0mticktoctest\u001b[0m\u001b[1;33m.\u001b[0m\u001b[0mmodels\u001b[0m \u001b[1;32mimport\u001b[0m \u001b[0mdelta_tables\u001b[0m\u001b[1;33m\u001b[0m\u001b[0m\n\u001b[1;32m----> 4\u001b[1;33m \u001b[1;32mfrom\u001b[0m \u001b[0mAltcoin\u001b[0m\u001b[1;33m.\u001b[0m\u001b[0maltcoin\u001b[0m\u001b[1;33m.\u001b[0m\u001b[0mcoinData\u001b[0m \u001b[1;32mimport\u001b[0m \u001b[0mCoinData\u001b[0m\u001b[1;33m\u001b[0m\u001b[0m\n\u001b[0m",
      "\u001b[1;32m~\\MyPython\\Altcoin\\altcoin\\coinData.py\u001b[0m in \u001b[0;36m<module>\u001b[1;34m()\u001b[0m\n\u001b[0;32m      6\u001b[0m \u001b[1;32mimport\u001b[0m \u001b[0mmatplotlib\u001b[0m\u001b[1;33m.\u001b[0m\u001b[0mpyplot\u001b[0m \u001b[1;32mas\u001b[0m \u001b[0mplt\u001b[0m\u001b[1;33m\u001b[0m\u001b[0m\n\u001b[0;32m      7\u001b[0m \u001b[1;32mfrom\u001b[0m \u001b[0mmatplotlib\u001b[0m\u001b[1;33m.\u001b[0m\u001b[0mdates\u001b[0m \u001b[1;32mimport\u001b[0m \u001b[0mDateFormatter\u001b[0m\u001b[1;33m,\u001b[0m \u001b[0mdate2num\u001b[0m\u001b[1;33m,\u001b[0m \u001b[0mWeekdayLocator\u001b[0m\u001b[1;33m,\u001b[0m \u001b[0mDayLocator\u001b[0m\u001b[1;33m,\u001b[0m \u001b[0mMONDAY\u001b[0m\u001b[1;33m\u001b[0m\u001b[0m\n\u001b[1;32m----> 8\u001b[1;33m \u001b[1;32mfrom\u001b[0m \u001b[0mmpl_finance\u001b[0m \u001b[1;32mimport\u001b[0m \u001b[0mcandlestick_ohlc\u001b[0m\u001b[1;33m\u001b[0m\u001b[0m\n\u001b[0m\u001b[0;32m      9\u001b[0m \u001b[1;32mimport\u001b[0m \u001b[0mnumpy\u001b[0m \u001b[1;32mas\u001b[0m \u001b[0mnp\u001b[0m\u001b[1;33m\u001b[0m\u001b[0m\n\u001b[0;32m     10\u001b[0m \u001b[1;32mfrom\u001b[0m \u001b[0mcolorama\u001b[0m \u001b[1;32mimport\u001b[0m \u001b[0mFore\u001b[0m\u001b[1;33m\u001b[0m\u001b[0m\n",
      "\u001b[1;31mModuleNotFoundError\u001b[0m: No module named 'mpl_finance'"
     ]
    }
   ],
   "source": [
    "from TickTocTest.ticktoctest.utils import DF_Tables\n",
    "from TickTocTest.ticktoctest.tickToc import db_session, getDBdata\n",
    "from TickTocTest.ticktoctest.models import delta_tables\n",
    "# from Altcoin.altcoin.coinData import CoinData"
   ]
  },
  {
   "cell_type": "code",
   "execution_count": null,
   "metadata": {},
   "outputs": [],
   "source": [
    "import pandas as pd"
   ]
  }
 ],
 "metadata": {
  "kernelspec": {
   "display_name": "Python 3",
   "language": "python",
   "name": "python3"
  },
  "language_info": {
   "codemirror_mode": {
    "name": "ipython",
    "version": 3
   },
   "file_extension": ".py",
   "mimetype": "text/x-python",
   "name": "python",
   "nbconvert_exporter": "python",
   "pygments_lexer": "ipython3",
   "version": "3.6.6"
  }
 },
 "nbformat": 4,
 "nbformat_minor": 2
}
